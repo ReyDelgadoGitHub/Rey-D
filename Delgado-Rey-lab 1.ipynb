{
 "cells": [
  {
   "cell_type": "markdown",
   "metadata": {},
   "source": [
    "**191655**\n",
    "**Delgado**\n",
    "**2 BS ITE**"
   ]
  },
  {
   "cell_type": "code",
   "execution_count": 1,
   "metadata": {},
   "outputs": [
    {
     "name": "stdout",
     "output_type": "stream",
     "text": [
      "Enter the value: 4\n",
      "Which unit do you want it converted from:  USD\n",
      "Which unit do you want it converted to: PHP\n",
      "200.0\n"
     ]
    }
   ],
   "source": [
    "num1 = input('Enter the value: ')\n",
    "unit1 = input('Which unit do you want it converted from:  ')\n",
    "unit2 = input('Which unit do you want it converted to: ')\n",
    "\n",
    "if unit1 == \"USD\" and unit2 == \"PHP\":\n",
    "    ans = float(num1)*50\n",
    "    print(ans)"
   ]
  },
  {
   "cell_type": "code",
   "execution_count": 18,
   "metadata": {},
   "outputs": [
    {
     "name": "stdout",
     "output_type": "stream",
     "text": [
      "Enter First Number: 55\n",
      "Enter Second Number: 3\n",
      "Enter which operation would you like to perform?\n",
      "Enter any of these char for specific operation +,-,*,/,r: r\n",
      "55 r 3 : 1\n"
     ]
    }
   ],
   "source": [
    "num1 = int(input(\"Enter First Number: \"))\n",
    "num2 = int(input(\"Enter Second Number: \"))\n",
    "\n",
    "print(\"Enter which operation would you like to perform?\")\n",
    "ch = input(\"Enter any of these char for specific operation +,-,*,/,r: \")\n",
    "\n",
    "result = 0\n",
    "if ch == '+':\n",
    "    result = num1 + num2\n",
    "elif ch == '-':\n",
    "    result = num1 - num2\n",
    "elif ch == '*':\n",
    "    result = num1 * num2\n",
    "elif ch == '/':\n",
    "    result = num1 / num2\n",
    "elif ch == 'r':\n",
    "    result = num1 % num2\n",
    "else:\n",
    "    print(\"Input character is not recognized!\")\n",
    "\n",
    "print(num1, ch , num2, \":\", result)"
   ]
  },
  {
   "cell_type": "code",
   "execution_count": 22,
   "metadata": {},
   "outputs": [
    {
     "name": "stdout",
     "output_type": "stream",
     "text": [
      "Enter your height in Centimeters: 180\n",
      "Enter your weight in Kg: 65\n",
      "Your Body Mass Index is:  20\n"
     ]
    }
   ],
   "source": [
    "METER   = 100\n",
    " \n",
    "height  = float(input(\"Enter your height in Centimeters: \"))\n",
    "weight  = float(input(\"Enter your weight in Kg: \"))\n",
    " \n",
    "temp    = height / METER\n",
    "\n",
    "bmi = weight / (temp*temp)\n",
    "print(\"Your Body Mass Index is: \",\"%d\"%(bmi)) "
   ]
  },
  {
   "cell_type": "code",
   "execution_count": null,
   "metadata": {},
   "outputs": [],
   "source": []
  }
 ],
 "metadata": {
  "kernelspec": {
   "display_name": "Python 3",
   "language": "python",
   "name": "python3"
  },
  "language_info": {
   "codemirror_mode": {
    "name": "ipython",
    "version": 3
   },
   "file_extension": ".py",
   "mimetype": "text/x-python",
   "name": "python",
   "nbconvert_exporter": "python",
   "pygments_lexer": "ipython3",
   "version": "3.8.3"
  }
 },
 "nbformat": 4,
 "nbformat_minor": 4
}
